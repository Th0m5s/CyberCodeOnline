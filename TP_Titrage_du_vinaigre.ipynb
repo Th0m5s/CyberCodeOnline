{
  "nbformat": 4,
  "nbformat_minor": 0,
  "metadata": {
    "colab": {
      "name": "TP Titrage du vinaigre.ipynb",
      "provenance": [],
      "include_colab_link": true
    },
    "kernelspec": {
      "name": "python3",
      "display_name": "Python 3"
    },
    "language_info": {
      "name": "python"
    }
  },
  "cells": [
    {
      "cell_type": "markdown",
      "metadata": {
        "id": "view-in-github",
        "colab_type": "text"
      },
      "source": [
        "<a href=\"https://colab.research.google.com/github/Th0m5s/CyberCodeOnline/blob/master/TP_Titrage_du_vinaigre.ipynb\" target=\"_parent\"><img src=\"https://colab.research.google.com/assets/colab-badge.svg\" alt=\"Open In Colab\"/></a>"
      ]
    },
    {
      "cell_type": "markdown",
      "source": [
        "# Vérification du degré acétique d'un vinaigre par titrage pH-métrique\n",
        "---"
      ],
      "metadata": {
        "id": "G7rIlWGLNDyr"
      }
    },
    {
      "cell_type": "code",
      "execution_count": 1,
      "metadata": {
        "id": "YlOB3KFmNADY",
        "outputId": "585d8bd5-6394-4406-b980-a438bb3c5873",
        "colab": {
          "base_uri": "https://localhost:8080/"
        }
      },
      "outputs": [
        {
          "output_type": "stream",
          "name": "stdout",
          "text": [
            "Concentration en acide acétique du vinaigre dilué à partir des mesures (Entrées) : 0.13 mol/L \n",
            "\n",
            "Incertitude sur la valeur de la concentration en acide acétique du vinaigre dilué : 2.98e-03 mol/L \n",
            "\n",
            "Concentration en acide acétique du vinaigre commercial à partir des mesures (dilution): 1.3 mol/L \n",
            "\n",
            "Incertitude sur la valeur de la concentration en acide acétique du vinaigre commercial : 1.50e-02 mol/L \n",
            "\n"
          ]
        }
      ],
      "source": [
        "import numpy as np\n",
        "\n",
        "\n",
        "#%% Entrées\n",
        "\n",
        "V_preleve = 20                         # Volume prélevé de vinaigre commercial pour faire la dilution [mL]\n",
        "précision_Vpreleve = 0.1                # Précision sur le volume prélevé de vinaigre commercial (pipette jaugée) [mL]\n",
        "\n",
        "V_fiole = 100                           # Volume de la fiole jaugée utilisée pour la dilution [mL]\n",
        "précision_fiole = 0.1                   # Précision estimée sur le volume de la fiole jaugée [mL]\n",
        "    \n",
        "C_hydroxyde = 0.10                       # Concentration de la solution d'hydroxyde de sodium [mol/L]\n",
        "\n",
        "V_0 = 10                               # Volume prélevé de vinaigre dilué pour le titrage [mL]\n",
        "précision_V0 = 0.1                      # Précision estimée sur le volume prélevé de vinaigre dilué (pipette jaugée) [mL]\n",
        "\n",
        "V_E = 13                               # Volume équivalent [mL]\n",
        "précision_VE = 0.5                      # Précision estimée sur le volume équivalent [mL]\n",
        "\n",
        "\n",
        "#%% Calcul de la concentration en acide acétique du vinaigre dilué\n",
        "\n",
        "c_0 = (V_E/V_0)*C_hydroxyde                               # Concentration en acide acétique du vinaigre dilué calculée à partir des entrées [mol/L]\n",
        "\n",
        "\n",
        "#%% Calcul de la concentration du vinaigre commercial\n",
        "\n",
        "c_com = 1.3                            # Concentration en acide acétique du vinaigre commercial (exploitation de la dilution) [mol/L]\n",
        "\n",
        "\n",
        "#%% Méthode de Monte Carlo pour trouver les incertitudes sur les concentrations \n",
        "\n",
        "N = 10000                           # Nombre d'expériences simulées\n",
        "               \n",
        "                                      \n",
        "V0_alea =  np.random.uniform(V_0 - précision_V0,V_0 + précision_V0 , N)      \n",
        "VE_alea =  np.random.uniform(V_E - précision_VE, V_E + précision_VE, N)      \n",
        "c0_alea = (C_hydroxyde * VE_alea)/V0_alea                             \n",
        "\n",
        "Vfiole_alea = np.random.uniform(V_fiole - précision_fiole, V_fiole + précision_fiole, N)           \n",
        "Vpreleve_alea =  np.random.uniform(V_preleve - précision_Vpreleve, V_preleve + précision_Vpreleve, N)   \n",
        "ccom_alea = (c0_alea * Vfiole_alea)/Vpreleve_alea                  \n",
        "\n",
        "\n",
        "incertitude_c0 = np.std(c0_alea, ddof = 1)                      # Calcule l'écart-type pour la valeur de la concentration en acide acétique du vinaigre dilué calculée à partir des entrées\n",
        "\n",
        "incertitude_ccom = np.std(ccom_alea, ddof = 1)                  # Calcule l'écart-type pour la valeur de la concentration en acide acétique du vinaigre commercial à partir de la dilution\n",
        "\n",
        "\n",
        "#%% Affichage\n",
        "\n",
        "print('Concentration en acide acétique du vinaigre dilué à partir des mesures (Entrées) :', c_0, 'mol/L \\n')\n",
        "print('Incertitude sur la valeur de la concentration en acide acétique du vinaigre dilué : {:.2e} mol/L \\n'.format(incertitude_c0))\n",
        "\n",
        "print('Concentration en acide acétique du vinaigre commercial à partir des mesures (dilution):', c_com, 'mol/L \\n')\n",
        "print('Incertitude sur la valeur de la concentration en acide acétique du vinaigre commercial : {:.2e} mol/L \\n'.format(incertitude_ccom))\n"
      ]
    }
  ]
}