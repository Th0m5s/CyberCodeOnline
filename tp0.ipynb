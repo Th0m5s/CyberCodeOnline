{
  "nbformat": 4,
  "nbformat_minor": 5,
  "metadata": {
    "kernelspec": {
      "display_name": "Python 3",
      "language": "python",
      "name": "python3"
    },
    "language_info": {
      "codemirror_mode": {
        "name": "ipython",
        "version": 3
      },
      "file_extension": ".py",
      "mimetype": "text/x-python",
      "name": "python",
      "nbconvert_exporter": "python",
      "pygments_lexer": "ipython3",
      "version": "3.8.10"
    },
    "colab": {
      "name": "tp0.ipynb",
      "provenance": [],
      "include_colab_link": true
    }
  },
  "cells": [
    {
      "cell_type": "markdown",
      "metadata": {
        "id": "view-in-github",
        "colab_type": "text"
      },
      "source": [
        "<a href=\"https://colab.research.google.com/github/Th0m5s/CyberCodeOnline/blob/kt0t0Sudd3n-patch-1/tp0.ipynb\" target=\"_parent\"><img src=\"https://colab.research.google.com/assets/colab-badge.svg\" alt=\"Open In Colab\"/></a>"
      ]
    },
    {
      "cell_type": "markdown",
      "metadata": {
        "id": "08161442"
      },
      "source": [
        ">Ouvrir le notebook dans Colab en modifiant le début de son adresse dans le navigateur :<br>\n",
        "il faut remplacer **github.com** par **githubtocolab.com**.<br>\n",
        "Une fois vos réponses apportées, le notebook devra être sauvegardé dans GitHub, dans le repository du TP :<br>\n",
        "*Fichier > Enregistrer une copie dans Github*<br>\n",
        "*Info-TSI-Vieljeux/tpx-votre_nom*<br>\n",
        "\n",
        "---"
      ],
      "id": "08161442"
    },
    {
      "cell_type": "markdown",
      "metadata": {
        "deletable": false,
        "editable": false,
        "nbgrader": {
          "cell_type": "markdown",
          "checksum": "abc29a7438c4411d73cf9cc87115b0de",
          "grade": false,
          "grade_id": "cell-b6f357efb343c6e4",
          "locked": true,
          "schema_version": 3,
          "solution": false,
          "task": false
        },
        "id": "a602f8e1"
      },
      "source": [
        "# TP 0 : Démarrage"
      ],
      "id": "a602f8e1"
    },
    {
      "cell_type": "markdown",
      "metadata": {
        "deletable": false,
        "editable": false,
        "nbgrader": {
          "cell_type": "markdown",
          "checksum": "e9b4c48783a1df6a65dbd662fb11f052",
          "grade": false,
          "grade_id": "cell-f4c8c021d1162c85",
          "locked": true,
          "schema_version": 3,
          "solution": false,
          "task": false
        },
        "id": "2a2cb81b"
      },
      "source": [
        "## Exo 1"
      ],
      "id": "2a2cb81b"
    },
    {
      "cell_type": "markdown",
      "metadata": {
        "deletable": false,
        "editable": false,
        "nbgrader": {
          "cell_type": "markdown",
          "checksum": "722088e01aee034920157f96dbfecef8",
          "grade": false,
          "grade_id": "cell-850335ac033c88ed",
          "locked": true,
          "schema_version": 3,
          "solution": false,
          "task": false
        },
        "id": "dfecc914"
      },
      "source": [
        "Combien de fois une feuille de papier d’épaisseur $e=0,1$ mm doit-elle être pliée pour atteindre la Lune ?<br>\n",
        "Écrivez dans la cellule suivante un code permettant d'obtenir la réponse.<br>\n",
        "Le plus simple est d'utiliser une boucle `while`.\n",
        "\n",
        "*[Wolfram alpha](https://www.wolframalpha.com/input/?i=Distance+earth+moon) vous donne avec précision la distance Terre-Lune.*"
      ],
      "id": "dfecc914"
    },
    {
      "cell_type": "code",
      "metadata": {
        "deletable": false,
        "nbgrader": {
          "cell_type": "code",
          "checksum": "f5d434e6bdd1ddbf686eb745767798e6",
          "grade": false,
          "grade_id": "cell-5137d4f9ee40130d",
          "locked": false,
          "schema_version": 3,
          "solution": true,
          "task": false
        },
        "id": "25c6f51e",
        "outputId": "90480116-ac90-47b1-bc19-1e6ce327962d",
        "colab": {
          "base_uri": "https://localhost:8080/"
        }
      },
      "source": [
        "épaisseur = 0.0001\n",
        "distance = 395885000\n",
        "plis = 0\n",
        "while épaisseur < distance :\n",
        "  épaisseur = épaisseur*2\n",
        "  plis = plis+1\n",
        "print(\"Une feuille d'épaisseur 0,1 mm doit être pliée\",plis,\"fois pour atteindre la Lune\") \n",
        "\n"
      ],
      "id": "25c6f51e",
      "execution_count": 26,
      "outputs": [
        {
          "output_type": "stream",
          "name": "stdout",
          "text": [
            "Une feuille d'épaisseur 0,1 mm doit être pliée 42 fois pour atteindre la Lune\n"
          ]
        }
      ]
    },
    {
      "cell_type": "markdown",
      "metadata": {
        "deletable": false,
        "editable": false,
        "nbgrader": {
          "cell_type": "markdown",
          "checksum": "08116148d1e5e56c8ce1e2906d13c56d",
          "grade": false,
          "grade_id": "cell-8161ee8c532a4771",
          "locked": true,
          "schema_version": 3,
          "solution": false,
          "task": false
        },
        "id": "bfccb2ae"
      },
      "source": [
        "Dans la cellule suivante, affectez à la variable `nb_plis` la valeur entière trouvée."
      ],
      "id": "bfccb2ae"
    },
    {
      "cell_type": "code",
      "metadata": {
        "id": "2d899091"
      },
      "source": [
        "nb_plis = 42"
      ],
      "id": "2d899091",
      "execution_count": null,
      "outputs": []
    },
    {
      "cell_type": "code",
      "metadata": {
        "deletable": false,
        "editable": false,
        "nbgrader": {
          "cell_type": "code",
          "checksum": "045ea9defc5644e0aa4498b04f9e8347",
          "grade": true,
          "grade_id": "cell-75ebafeacfc97165",
          "locked": true,
          "points": 1,
          "schema_version": 3,
          "solution": false,
          "task": false
        },
        "id": "134ef234"
      },
      "source": [
        "# Cellule de test, ne pas modifier."
      ],
      "id": "134ef234",
      "execution_count": null,
      "outputs": []
    },
    {
      "cell_type": "markdown",
      "metadata": {
        "deletable": false,
        "editable": false,
        "nbgrader": {
          "cell_type": "markdown",
          "checksum": "d116a68a8f2d137a9ccb3642c9faddf1",
          "grade": false,
          "grade_id": "cell-340d105454b175fc",
          "locked": true,
          "schema_version": 3,
          "solution": false,
          "task": false
        },
        "id": "03e6ce73"
      },
      "source": [
        "## Exo 2"
      ],
      "id": "03e6ce73"
    },
    {
      "cell_type": "markdown",
      "metadata": {
        "deletable": false,
        "editable": false,
        "nbgrader": {
          "cell_type": "markdown",
          "checksum": "78a3a3bf052257ec96081bc193d0da4b",
          "grade": false,
          "grade_id": "cell-f602289a55f51a1b",
          "locked": true,
          "schema_version": 3,
          "solution": false,
          "task": false
        },
        "id": "8933841f"
      },
      "source": [
        "Complétez le code de la fonction `palindrome` pour qu'il retourne un booléen valant `True` si la chaîne de caractères passée en argument est bien un palindrome et `False` sinon."
      ],
      "id": "8933841f"
    },
    {
      "cell_type": "code",
      "metadata": {
        "deletable": false,
        "nbgrader": {
          "cell_type": "code",
          "checksum": "b079a00bc76048a8288306d461997874",
          "grade": false,
          "grade_id": "cell-e28d717be6bfd72a",
          "locked": false,
          "schema_version": 3,
          "solution": true,
          "task": false
        },
        "id": "0e3634e4"
      },
      "source": [
        "def palindrome(chaine) :\n",
        "    \"\"\"\n",
        "    palindrome(chaine : string) -> test : bool\n",
        "    précondition : chaine est une chaine de caractères\n",
        "    postcondition : si chaine est un palindrome, test vaut True, et False sinon.\n",
        "    \"\"\"\n",
        "\n",
        "    "
      ],
      "id": "0e3634e4",
      "execution_count": 35,
      "outputs": []
    },
    {
      "cell_type": "code",
      "metadata": {
        "deletable": false,
        "editable": false,
        "nbgrader": {
          "cell_type": "code",
          "checksum": "6c9b117d141778d8c9116107a1e2ba8b",
          "grade": true,
          "grade_id": "cell-dce9754e859d63a3",
          "locked": true,
          "points": 1,
          "schema_version": 3,
          "solution": false,
          "task": false
        },
        "id": "b7e1c398"
      },
      "source": [
        "# Cellule de test, ne pas modifier."
      ],
      "id": "b7e1c398",
      "execution_count": null,
      "outputs": []
    },
    {
      "cell_type": "markdown",
      "metadata": {
        "deletable": false,
        "editable": false,
        "nbgrader": {
          "cell_type": "markdown",
          "checksum": "b63a3c36e4be547d0f97e844d15f9f70",
          "grade": false,
          "grade_id": "cell-80a9c0409622fa6a",
          "locked": true,
          "schema_version": 3,
          "solution": false,
          "task": false
        },
        "id": "e2a89f1c"
      },
      "source": [
        "## Exo 3"
      ],
      "id": "e2a89f1c"
    },
    {
      "cell_type": "markdown",
      "metadata": {
        "deletable": false,
        "editable": false,
        "nbgrader": {
          "cell_type": "markdown",
          "checksum": "3aac1deab45f8bcafd56042c5ab6aa35",
          "grade": false,
          "grade_id": "cell-d396bfccd0dfcac7",
          "locked": true,
          "schema_version": 3,
          "solution": false,
          "task": false
        },
        "id": "c1df1dad"
      },
      "source": [
        "Une liste peut être utilisée comme une représentation simple d’un polynôme, $P(x)$, où les éléments sont les coefficients des puissances de $x$ successives et les indices sont les puissances elles-mêmes. Ainsi le polynôme \n",
        "$P(x)=3+6x+2x^3$ sera représenté par la liste `[3,6,0,2]`.<br>\n",
        "L'exécution du code de la cellule suivante ne donne pas le résultat attendu.<br>\n",
        "Corrigez-le afin de rendre le retour affiché correct."
      ],
      "id": "c1df1dad"
    },
    {
      "cell_type": "code",
      "metadata": {
        "id": "89276c4a"
      },
      "source": [
        "P = [3, 6, 0, 2]\n",
        "dPdx = []\n",
        "i = 0\n",
        "for c in P :\n",
        "    i += 1\n",
        "    dPdx.append(i*c)\n",
        "dPdx"
      ],
      "id": "89276c4a",
      "execution_count": null,
      "outputs": []
    },
    {
      "cell_type": "code",
      "metadata": {
        "deletable": false,
        "editable": false,
        "nbgrader": {
          "cell_type": "code",
          "checksum": "abde405ab12612b7026c138f46dbeb2f",
          "grade": true,
          "grade_id": "cell-ab5369deee9f3198",
          "locked": true,
          "points": 1,
          "schema_version": 3,
          "solution": false,
          "task": false
        },
        "id": "0e282b1f"
      },
      "source": [
        "# Cellule de test, ne pas modifier."
      ],
      "id": "0e282b1f",
      "execution_count": null,
      "outputs": []
    },
    {
      "cell_type": "markdown",
      "metadata": {
        "deletable": false,
        "editable": false,
        "nbgrader": {
          "cell_type": "markdown",
          "checksum": "0ae1dedebd9825b51c3993719b34a26b",
          "grade": false,
          "grade_id": "cell-053374b4dd7d0a8d",
          "locked": true,
          "schema_version": 3,
          "solution": false,
          "task": false
        },
        "id": "23dd1e01"
      },
      "source": [
        "## Exo 4"
      ],
      "id": "23dd1e01"
    },
    {
      "cell_type": "markdown",
      "metadata": {
        "deletable": false,
        "editable": false,
        "nbgrader": {
          "cell_type": "markdown",
          "checksum": "bbadf232b8baf0b64aa8d14d635aff79",
          "grade": false,
          "grade_id": "cell-85cf5d1a3fb34bc8",
          "locked": true,
          "schema_version": 3,
          "solution": false,
          "task": false
        },
        "id": "e9a217cc"
      },
      "source": [
        "L’algorithme de Luhn est une formule de somme de contrôle permettant de valider un numéro de carte bancaire.\n",
        "On considère le numéro de carte comme une suite de nombres à 1 chiffre.\n",
        "\n",
        "- Renverser la liste.\n",
        "- Prendre tous les chiffres en position paire dans la liste renversée (2e chiffre, 4e chiffre, etc.) et doubler leur valeur, si le résultat dépasse 10, on ajoute les deux chiffres du résultat (par exemple 6→12→3).\n",
        "- Sommer tous les nombres de la nouvelle liste (les modifiés et les non-modifiés)\n",
        "- Si cette somme vaut 0 modulo 10. Le numéro de carte est valide.\n",
        "\n",
        "Compléter la fonction suivante permettant de vérifier un numéro de carte."
      ],
      "id": "e9a217cc"
    },
    {
      "cell_type": "markdown",
      "metadata": {
        "id": "84430602"
      },
      "source": [
        "![](https://cordier-info.github.io/cb.jpg)"
      ],
      "id": "84430602"
    },
    {
      "cell_type": "code",
      "metadata": {
        "deletable": false,
        "nbgrader": {
          "cell_type": "code",
          "checksum": "c3a3e808894e459cc5d899b11c5076ef",
          "grade": false,
          "grade_id": "cell-aa6a28d5f7edcc0f",
          "locked": false,
          "schema_version": 3,
          "solution": true,
          "task": false
        },
        "id": "f1c67b64"
      },
      "source": [
        "def verifcarte(numero) :\n",
        "    \"\"\"\n",
        "    verifcarte(numero : string) -> bool\n",
        "    précondition : numéro est une chaîne de caractères (par exemple '1205 1205 1205 1205')\n",
        "    postcondition : la fonction retourne vrai si le numéro est valide et faux sinon\n",
        "    \"\"\"\n",
        "    num = ''\n",
        "    for c in numero :\n",
        "        if c in '0123456789' :\n",
        "            num += c\n",
        "    assert len(num)==16, 'Le numéro ne contient pas 16 chiffres'\n",
        "    # VOTRE CODE"
      ],
      "id": "f1c67b64",
      "execution_count": null,
      "outputs": []
    },
    {
      "cell_type": "code",
      "metadata": {
        "id": "e0d5469c"
      },
      "source": [
        "# Pour tester votre fonction\n",
        "num = '0000 0000 0000 9258'\n",
        "verifcarte(num)"
      ],
      "id": "e0d5469c",
      "execution_count": null,
      "outputs": []
    },
    {
      "cell_type": "code",
      "metadata": {
        "deletable": false,
        "editable": false,
        "nbgrader": {
          "cell_type": "code",
          "checksum": "8a8f4bc4476c1db71f20429021da193e",
          "grade": true,
          "grade_id": "cell-f7ed2a40bd10055b",
          "locked": true,
          "points": 1,
          "schema_version": 3,
          "solution": false,
          "task": false
        },
        "id": "54c2d49a"
      },
      "source": [
        "# Cellule de test, ne pas modifier"
      ],
      "id": "54c2d49a",
      "execution_count": null,
      "outputs": []
    },
    {
      "cell_type": "markdown",
      "metadata": {
        "deletable": false,
        "editable": false,
        "nbgrader": {
          "cell_type": "markdown",
          "checksum": "c97aa2b901b14989274e27032827b960",
          "grade": false,
          "grade_id": "cell-8e7d5163226ae766",
          "locked": true,
          "schema_version": 3,
          "solution": false,
          "task": false
        },
        "id": "75a301b1"
      },
      "source": [
        "## Exo 5"
      ],
      "id": "75a301b1"
    },
    {
      "cell_type": "markdown",
      "metadata": {
        "deletable": false,
        "editable": false,
        "nbgrader": {
          "cell_type": "markdown",
          "checksum": "b092f1f3a79227f9db35af883f5313f0",
          "grade": false,
          "grade_id": "cell-2b1d1bb8baf8d03b",
          "locked": true,
          "schema_version": 3,
          "solution": false,
          "task": false
        },
        "id": "d6d9e56a"
      },
      "source": [
        "La suite de Syracuse est une suite d’entiers naturels définie de la manière suivante : \n",
        "\n",
        "on part d’un nombre entier plus grand que zéro ;\n",
        "\n",
        "- s’il est pair, on le divise par 2 ;\n",
        "- s’il est impair, on le multiplie par 3 et on ajoute 1.\n",
        "\n",
        "En répétant l’opération, on obtient une suite d’entiers positifs dont chacun ne dépend que de son prédécesseur.\n",
        "\n",
        "Lorsque 1 est atteint, un cycle de longueur 3 se répète sans fin : 1, 4, 2, 1, 4, 2, 1,…\n",
        "\n",
        "On ajoute donc une nouvelle règle :\n",
        "\n",
        "- si 1 est atteint, la suite s’arrête.\n",
        "\n",
        "Appelons **temps de vol** le nombre de termes de la suite. \n",
        "\n",
        "Construisez une fonction qui renvoie le temps de vol correspondant à une entrée donnée."
      ],
      "id": "d6d9e56a"
    },
    {
      "cell_type": "code",
      "metadata": {
        "deletable": false,
        "nbgrader": {
          "cell_type": "code",
          "checksum": "3b99c0858e11ab5984e751fa0dae40fd",
          "grade": false,
          "grade_id": "cell-e4e5436a9d6e43d4",
          "locked": false,
          "schema_version": 3,
          "solution": true,
          "task": false
        },
        "id": "0c3ee9e8"
      },
      "source": [
        "def tpsdevol(nombre) :\n",
        "    \"\"\"\n",
        "    tpsdevol(nombre : int) -> tps : int\n",
        "    précondition : nombre est un entier positif\n",
        "    postcondition : tps est le nombre d'étapes jusqu'à obtenir 1 dans la suite de Syracuse démarrant à nombre\n",
        "    \"\"\"\n",
        "    # VOTRE CODE\n",
        "    return tps"
      ],
      "id": "0c3ee9e8",
      "execution_count": null,
      "outputs": []
    },
    {
      "cell_type": "code",
      "metadata": {
        "deletable": false,
        "editable": false,
        "nbgrader": {
          "cell_type": "code",
          "checksum": "e51bb877e43f6822b4d311d78b5de1e5",
          "grade": true,
          "grade_id": "cell-1980f6a0130c0288",
          "locked": true,
          "points": 1,
          "schema_version": 3,
          "solution": false,
          "task": false
        },
        "id": "5a9c5c37"
      },
      "source": [
        "# Cellule de test, ne pas modifier"
      ],
      "id": "5a9c5c37",
      "execution_count": null,
      "outputs": []
    },
    {
      "cell_type": "markdown",
      "metadata": {
        "deletable": false,
        "editable": false,
        "nbgrader": {
          "cell_type": "markdown",
          "checksum": "726abbd48f1ede8e1b151dcb8546c60e",
          "grade": false,
          "grade_id": "cell-0a16956deaee2bc1",
          "locked": true,
          "schema_version": 3,
          "solution": false,
          "task": false
        },
        "id": "9ed519f8"
      },
      "source": [
        "La **conjecture de Syracuse** (ou Collatz) dit que toutes les suites de Syracuse ont une fin.\n",
        "\n",
        "Confirmons la conjecture pour tous les entiers inférieurs à 100 grâce à votre fonction."
      ],
      "id": "9ed519f8"
    },
    {
      "cell_type": "markdown",
      "metadata": {
        "deletable": false,
        "editable": false,
        "nbgrader": {
          "cell_type": "markdown",
          "checksum": "45936b08db1801853c04934e2a6b7571",
          "grade": false,
          "grade_id": "cell-81bef927ff4a603b",
          "locked": true,
          "schema_version": 3,
          "solution": false,
          "task": false
        },
        "id": "86199735"
      },
      "source": [
        "![](https://cordier-info.github.io/collatz.png)"
      ],
      "id": "86199735"
    },
    {
      "cell_type": "code",
      "metadata": {
        "id": "9ccb7212"
      },
      "source": [
        "import matplotlib.pyplot as plt\n",
        "plt.style.use('seaborn')\n",
        "plt.figure(figsize=(15,8),dpi=150)\n",
        "\n",
        "X = [i for i in range(1,100)]\n",
        "T = []\n",
        "for x in X :\n",
        "    T.append(tpsdevol(x))\n",
        "plt.plot(X,T)\n",
        "plt.xlabel('nombre de départ')\n",
        "plt.ylabel('temps de vol')"
      ],
      "id": "9ccb7212",
      "execution_count": null,
      "outputs": []
    },
    {
      "cell_type": "code",
      "metadata": {
        "id": "bbfd0bce"
      },
      "source": [
        ""
      ],
      "id": "bbfd0bce",
      "execution_count": null,
      "outputs": []
    }
  ]
}