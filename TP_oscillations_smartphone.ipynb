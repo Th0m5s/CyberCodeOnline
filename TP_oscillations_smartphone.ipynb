{
  "nbformat": 4,
  "nbformat_minor": 0,
  "metadata": {
    "colab": {
      "name": "TP oscillations smartphone.ipynb",
      "provenance": [],
      "collapsed_sections": [],
      "include_colab_link": true
    },
    "kernelspec": {
      "name": "python3",
      "display_name": "Python 3"
    },
    "language_info": {
      "name": "python"
    }
  },
  "cells": [
    {
      "cell_type": "markdown",
      "metadata": {
        "id": "view-in-github",
        "colab_type": "text"
      },
      "source": [
        "<a href=\"https://colab.research.google.com/github/Th0m5s/CyberCodeOnline/blob/master/TP_oscillations_smartphone.ipynb\" target=\"_parent\"><img src=\"https://colab.research.google.com/assets/colab-badge.svg\" alt=\"Open In Colab\"/></a>"
      ]
    },
    {
      "cell_type": "markdown",
      "metadata": {
        "id": "zuP0-xX6JcXB"
      },
      "source": [
        "# Déterminer le rayon de la Terre en faisant osciller son smartphone\n",
        "---\n",
        "<br>\n",
        "\n",
        "Régression linéaire sur les données expérimentales et calcul des incertitudes."
      ]
    },
    {
      "cell_type": "markdown",
      "metadata": {
        "id": "b8N1p4kNJxLP"
      },
      "source": [
        "Pour me communiquer votre travail : \n",
        "<br>\n",
        "- enregistrer une copie de ce fichier sur votre Drive et la renommer \"*TP oscillations smartphone_votre nom*\" ;\n",
        "- partager la copie de votre fichier en cliquant sur Partager (en haut à droite) et ajouter mon adresse mail (physiquetsi1@gmail.com) dans Partager avec des personnes ou des groupes.\n",
        "<br>\n",
        "---"
      ]
    },
    {
      "cell_type": "markdown",
      "metadata": {
        "id": "JAvDaxnMKGmT"
      },
      "source": [
        "- Importer **numpy** et **matplotlib.pyplot** sous les alias **np** et **plt**."
      ]
    },
    {
      "cell_type": "code",
      "metadata": {
        "id": "fSyzzDHYJVJx"
      },
      "source": [
        "import numpy as np\n",
        "import matplotlib.pyplot as plt "
      ],
      "execution_count": 1,
      "outputs": []
    },
    {
      "cell_type": "markdown",
      "metadata": {
        "id": "NGkFblETKi_I"
      },
      "source": [
        " - Créer deux tableaux contenant les valeurs des grandeurs expérimentales mesurées : longueur du pendule et période des oscillations. On utilise l'instruction **np.array([*valeur 0*,*valeur 1*, ..., *valeur n-1*])**.  \n"
      ]
    },
    {
      "cell_type": "code",
      "metadata": {
        "id": "Xx81J5tLLCXq",
        "outputId": "9af29ca2-e338-42b6-d931-cb1150290289",
        "colab": {
          "base_uri": "https://localhost:8080/",
          "height": 283
        }
      },
      "source": [
        "l = np.array([0.33,0.56,0.18,0.26,0.69,0.40,1.00])#Stocke les valeurs de logueur du fil\n",
        "p = np.array([1.29,1.60,1.03,1.16,1.75,1.39,2.08]) #Stocke les valeurs de période des oscillations\n",
        "plt.plot(l,p, 'ro')"
      ],
      "execution_count": 2,
      "outputs": [
        {
          "output_type": "execute_result",
          "data": {
            "text/plain": [
              "[<matplotlib.lines.Line2D at 0x7fc71e912890>]"
            ]
          },
          "metadata": {},
          "execution_count": 2
        },
        {
          "output_type": "display_data",
          "data": {
            "image/png": "[encoded data removed]",
            "text/plain": [
              "<Figure size 432x288 with 1 Axes>"
            ]
          },
          "metadata": {
            "needs_background": "light"
          }
        }
      ]
    },
    {
      "cell_type": "markdown",
      "metadata": {
        "id": "9b6LPiEPNJN4"
      },
      "source": [
        " - Créer deux variables  **x** et **y** pour définir les grandeurs à porter en abscisse et en ordonnée."
      ]
    },
    {
      "cell_type": "code",
      "metadata": {
        "id": "Vf3-jPnqOrpj"
      },
      "source": [
        "x = p**2\n",
        "y = 4*np.pi**2*(l+0.075)"
      ],
      "execution_count": 3,
      "outputs": []
    },
    {
      "cell_type": "markdown",
      "metadata": {
        "id": "rblgBMKWOwXl"
      },
      "source": [
        "### Régression linéaire sans incertitudes\n",
        "---\n",
        "\n",
        "- Réaliser la régression linéaire sur les grandeurs **x** et **y**.   \n",
        "> On utilise l'instruction   \n",
        ">\n",
        ">  **np.polyfit(<*grandeur_en_abscisse*>, <*grandeur_en_ordonnée*>, <*degré_polynôme*>)**      \n",
        ">\n",
        ">qui calcule les coefficients du polynôme qui s'ajuste le mieux aux données.   \n",
        "\n",
        "Dans le cas d'une régression linéaire, il s'agit d'ajuster un polynôme de degré 1 aux données. L'instruction renvoie les valeurs des coeeficients du polynôme, soit la pente et l'ordonnée à l'origine dans le cas d'une droite correspondant à un polynôme de degré 1."
      ]
    },
    {
      "cell_type": "code",
      "metadata": {
        "id": "qiPRat6gQsCo"
      },
      "source": [
        "pente, ordonnee = np.polyfit(x, y, 1) # Remplacer <grandeur_en_abscisse>, <grandeur_en_ordonnée>, <degré_polynôme> par les expressions ou valeurs convenables.\n",
        "reg = pente,ordonnee\n",
        "yreg = reg[0]*x+reg[1]"
      ],
      "execution_count": 4,
      "outputs": []
    },
    {
      "cell_type": "markdown",
      "metadata": {
        "id": "ChbDNCsETCPm"
      },
      "source": [
        "- Ecrire deux lignes de code permettant d'afficher les valeurs de la pente et de l'ordonnée à l'origine de la régression linéaire. "
      ]
    },
    {
      "cell_type": "code",
      "metadata": {
        "id": "qabYVARHTN2P",
        "outputId": "739dbbcd-2e82-4ae1-ecfd-0ff459514262",
        "colab": {
          "base_uri": "https://localhost:8080/"
        }
      },
      "source": [
        "print(pente, ordonnee)"
      ],
      "execution_count": 5,
      "outputs": [
        {
          "output_type": "stream",
          "name": "stdout",
          "text": [
            "9.909953929173527 -0.33389480677348743\n"
          ]
        }
      ]
    },
    {
      "cell_type": "markdown",
      "metadata": {
        "id": "5KsFQ3PzTzgr"
      },
      "source": [
        " - Représenter graphiquement **y** en fonction de **x** comme des ronds bleus. Superposer sur le même graphe la droite de régression linéaire d'équation *y* = *ordonnee* + *pente* * *x* , représentée comme une ligne rouge.   \n",
        " Donner un titre au graphique.   \n",
        " Nommer les axes.   \n",
        " Légender le graphe."
      ]
    },
    {
      "cell_type": "code",
      "metadata": {
        "id": "42Il2efxVFlF",
        "outputId": "1a641346-23f3-478f-8e42-7c3d1645aa79",
        "colab": {
          "base_uri": "https://localhost:8080/",
          "height": 295
        }
      },
      "source": [
        "plt.plot(x,y,' bo')\n",
        "plt.plot(x,yreg,'r')\n",
        "plt.xlabel('longueur (en m)')\n",
        "plt.ylabel('période (en s)')\n",
        "plt.title('Modélisation pendule simple')\n",
        "plt.grid()\n",
        "plt.show()"
      ],
      "execution_count": 6,
      "outputs": [
        {
          "output_type": "display_data",
          "data": {
            "image/png": "[encoded data removed]",
            "text/plain": [
              "<Figure size 432x288 with 1 Axes>"
            ]
          },
          "metadata": {
            "needs_background": "light"
          }
        }
      ]
    },
    {
      "cell_type": "markdown",
      "metadata": {
        "id": "rCeiFBQ0VMww"
      },
      "source": [
        "### Prise en compte des incertitudes sur les données expérimentales \n",
        "---\n",
        "- Estimer la précision sur les deux  grandeurs mesurées. Affecter ces valeurs à deux variables.   \n",
        "- En déduire les incertitudes correspondantes. Affecter les valeurs à deux variables. On rappelle que pour une grandeur connue avec une précision $ \\Delta $, l'incertitude *u* correspondante vaut $u = \\frac{\\Delta}{\\sqrt 3}$."
      ]
    },
    {
      "cell_type": "code",
      "metadata": {
        "id": "TV35ls4_XMHE",
        "outputId": "8cda3d6b-7619-40a7-d2a4-28198241159a",
        "colab": {
          "base_uri": "https://localhost:8080/"
        }
      },
      "source": [
        "pl = 0.01\n",
        "pp = 0.1\n",
        "incl = pl/(3)**(1/2)\n",
        "incp = pp/(3)**(1/2)\n",
        "print('Incertitude longueur =',incl,'m. Incertitude période',incp,'s')"
      ],
      "execution_count": 7,
      "outputs": [
        {
          "output_type": "stream",
          "name": "stdout",
          "text": [
            "Incertitude longueur = 0.005773502691896258 m. Incertitude période 0.05773502691896258 s\n"
          ]
        }
      ]
    },
    {
      "cell_type": "markdown",
      "metadata": {
        "id": "ilM-HW6hXOqv"
      },
      "source": [
        " - Calculer les incertitudes sur les grandeurs **x** et **y**. Affecter les valeurs à deux variables. On rappelle les formules de propagation des incertitudes :   \n",
        ">pour une grandeur $W = k Z$, $k$ = cste, $u(W) = |k|\\times u(Z)$    \n",
        "pour une grandeur $W = S \\times Z$ , $u(W) = |W| \\sqrt{\\left( \\frac{u(S)}S  \\right)^2 +\\left( \\frac{u(Z)}Z  \\right)^2 }$"
      ]
    },
    {
      "cell_type": "code",
      "source": [
        "Wx = (p**2)/(3**(1/2)) #Incertitude de x = 1*p**2\n",
        "Wy = (4*np.pi**2)*((l+0.075)/(3**(1/2))) #Incertitude de y = 4*np.pi**2*(l+0.075)\n",
        "print(Wx,Wy)"
      ],
      "metadata": {
        "id": "eJfyWM0aSBw4",
        "outputId": "99cdaadf-3aea-486f-c823-e7291f8d19ef",
        "colab": {
          "base_uri": "https://localhost:8080/"
        }
      },
      "execution_count": 8,
      "outputs": [
        {
          "output_type": "stream",
          "name": "stdout",
          "text": [
            "[0.96076858 1.47801669 0.6125109  0.77688252 1.7681352  1.11549846\n",
            " 2.4978482 ] [ 9.23111439 14.47347564  5.81218313  7.63561314 17.4365494  10.82661564\n",
            " 24.50234066]\n"
          ]
        }
      ]
    },
    {
      "cell_type": "markdown",
      "metadata": {
        "id": "NNIMpNUXacPf"
      },
      "source": [
        "### Simulation Monte Carlo de *N* = 10000 régressions linéaires\n",
        "---"
      ]
    },
    {
      "cell_type": "code",
      "metadata": {
        "id": "7Z9M6fSnbT_e"
      },
      "source": [
        "N = 10000   # Remplacer <valeur>"
      ],
      "execution_count": 9,
      "outputs": []
    },
    {
      "cell_type": "markdown",
      "metadata": {
        "id": "i3GaGXd-bk0z"
      },
      "source": [
        " - Créer deux listes vides **Pente** et **Ordo** pour stocker les valeurs des pentes et des ordonnées à l'origine des *N* régressions linéaires simulées.   \n",
        " - Créer une variable **L** qui contient le nombre d'expériences réalisées"
      ]
    },
    {
      "cell_type": "code",
      "metadata": {
        "id": "T-ss8Vg2bzAN"
      },
      "source": [
        "Pente = []\n",
        "Ordo = []\n",
        "L = N"
      ],
      "execution_count": 14,
      "outputs": []
    },
    {
      "cell_type": "markdown",
      "metadata": {
        "id": "17uBNbExcDar"
      },
      "source": [
        " - Simulation Monte Carlo :   "
      ]
    },
    {
      "cell_type": "code",
      "metadata": {
        "id": "Vmf51Lj8cNfw"
      },
      "source": [
        "for i in range(N):\n",
        "  longueur = np.random.uniform(pente-incl, pente+incl, L)  # Remplacer <expression> : simuler une liste de L valeurs de longueur du pendule selon une loi uniforme\n",
        "  période = np.random.uniform(ordonnee-incp, ordonnee+incp, L)      # Remplacer <expression> : simuler une liste de L valeurs d'oscillations du pendule selon une loi uniforme\n",
        "  Y = longueur          # Remplacer <expression> par la grandeur à porter en ordonnée\n",
        "  X = période          # Remplacer <expression> par la grandeur à porter en abscisse\n",
        "\n",
        "  regression = np.polyfit(X, Y, 1) # Réalise la régression linéaire sur les données simulées\n",
        "\n",
        "  Pente.append(regression[0])      \n",
        "  Ordo.append(regression[1])"
      ],
      "execution_count": 43,
      "outputs": []
    },
    {
      "cell_type": "markdown",
      "metadata": {
        "id": "QQbo8BpqdWqZ"
      },
      "source": [
        " - Calculer l'incertitude **u_pente** sur la pente de la régression linéaire sur les grandeurs expérimentales à partir de l'échantillon des *N* valeurs simulées de pente.   \n",
        " - Calculer l'incertitude **u_ordo** sur l'ordonnée à l'origine de la régression linéaire sur les grandeurs expérimentales à partir de l'échantillon des *N* valeurs simulées d'ordonnée à l'origine."
      ]
    },
    {
      "cell_type": "code",
      "metadata": {
        "id": "jl2tOyn8eBWb"
      },
      "source": [
        "u_pente = X/(3**(1/2))\n",
        "u_ordo = Y/(3**(1/2))"
      ],
      "execution_count": 44,
      "outputs": []
    },
    {
      "cell_type": "markdown",
      "metadata": {
        "id": "x6t515BAeHDj"
      },
      "source": [
        "- Ecrire deux lignes de code permettant d'afficher les valeurs des incertitudes sur la pente et l'ordonnée à l'origine de la régression linéaire sur les données expérimentales. "
      ]
    },
    {
      "cell_type": "code",
      "metadata": {
        "id": "1gqWpNleeNpC",
        "outputId": "9d347c8c-c326-46b0-bf66-c8669253dd0b",
        "colab": {
          "base_uri": "https://localhost:8080/",
          "height": 287
        }
      },
      "source": [
        "plt.plot(u_pente, 'ro')\n",
        "plt.plot(u_ordo, 'bo')"
      ],
      "execution_count": 45,
      "outputs": [
        {
          "output_type": "execute_result",
          "data": {
            "text/plain": [
              "[<matplotlib.lines.Line2D at 0x7fc715adc590>]"
            ]
          },
          "metadata": {},
          "execution_count": 45
        },
        {
          "output_type": "display_data",
          "data": {
            "image/png": "[encoded data removed]",
            "text/plain": [
              "<Figure size 432x288 with 1 Axes>"
            ]
          },
          "metadata": {
            "needs_background": "light"
          }
        }
      ]
    },
    {
      "cell_type": "markdown",
      "metadata": {
        "id": "yullr60qeSP2"
      },
      "source": [
        "### Représentation graphique tenant compte des incertitudes\n",
        "---\n",
        "\n",
        "- Représenter graphiquement les données expérimentales assorties de leurs barres d'incertitude. On représentera les données par des croix bleues.   \n",
        "> On utilise l'instruction    \n",
        ">   \n",
        "> **plt.errorbar(<*grandeur en abscisse*>,<*grandeur en ordonnée*>, xerr = <*incertitude sur la grandeur en abscisse*>, yerr = <*incertitude sur la grandeur en ordonnée*> , fmt = '*couleur marqueur*'  )**     \n",
        "\n",
        "- Superposer sur le même graphe la droite de régression linéaire d'équation *y* = *ordonnee* + *pente* * *x* , représentée comme une ligne rouge.   \n",
        " Donner un titre au graphique.   \n",
        " Nommer les axes.   \n",
        " Légender le graphe."
      ]
    },
    {
      "cell_type": "code",
      "source": [
        "plt.errorbar(x, yreg, xerr = u_pente, yerr = u_ordo , fmt = 'bx' )\n",
        "plt.plot(x,yreg,'r')\n",
        "plt.xlabel('longueur (en m)')\n",
        "plt.ylabel('période (en s)')\n",
        "plt.title('Modélisation pendule simple')\n",
        "plt.grid()\n",
        "plt.show()"
      ],
      "metadata": {
        "id": "xOluxRIZPepQ",
        "outputId": "cf3895c3-68ed-4e96-e2e8-1c75f77c02b4",
        "colab": {
          "base_uri": "https://localhost:8080/",
          "height": 647
        }
      },
      "execution_count": 46,
      "outputs": [
        {
          "output_type": "error",
          "ename": "ValueError",
          "evalue": "ignored",
          "traceback": [
            "\u001b[0;31m---------------------------------------------------------------------------\u001b[0m",
            "\u001b[0;31mValueError\u001b[0m                                Traceback (most recent call last)",
            "\u001b[0;32m<ipython-input-46-4a44a0566001>\u001b[0m in \u001b[0;36m<module>\u001b[0;34m()\u001b[0m\n\u001b[0;32m----> 1\u001b[0;31m \u001b[0mplt\u001b[0m\u001b[0;34m.\u001b[0m\u001b[0merrorbar\u001b[0m\u001b[0;34m(\u001b[0m\u001b[0mx\u001b[0m\u001b[0;34m,\u001b[0m \u001b[0myreg\u001b[0m\u001b[0;34m,\u001b[0m \u001b[0mxerr\u001b[0m \u001b[0;34m=\u001b[0m \u001b[0mu_pente\u001b[0m\u001b[0;34m,\u001b[0m \u001b[0myerr\u001b[0m \u001b[0;34m=\u001b[0m \u001b[0mu_ordo\u001b[0m \u001b[0;34m,\u001b[0m \u001b[0mfmt\u001b[0m \u001b[0;34m=\u001b[0m \u001b[0;34m'bx'\u001b[0m \u001b[0;34m)\u001b[0m\u001b[0;34m\u001b[0m\u001b[0;34m\u001b[0m\u001b[0m\n\u001b[0m\u001b[1;32m      2\u001b[0m \u001b[0mplt\u001b[0m\u001b[0;34m.\u001b[0m\u001b[0mplot\u001b[0m\u001b[0;34m(\u001b[0m\u001b[0mx\u001b[0m\u001b[0;34m,\u001b[0m\u001b[0myreg\u001b[0m\u001b[0;34m,\u001b[0m\u001b[0;34m'r'\u001b[0m\u001b[0;34m)\u001b[0m\u001b[0;34m\u001b[0m\u001b[0;34m\u001b[0m\u001b[0m\n\u001b[1;32m      3\u001b[0m \u001b[0mplt\u001b[0m\u001b[0;34m.\u001b[0m\u001b[0mxlabel\u001b[0m\u001b[0;34m(\u001b[0m\u001b[0;34m'longueur (en m)'\u001b[0m\u001b[0;34m)\u001b[0m\u001b[0;34m\u001b[0m\u001b[0;34m\u001b[0m\u001b[0m\n\u001b[1;32m      4\u001b[0m \u001b[0mplt\u001b[0m\u001b[0;34m.\u001b[0m\u001b[0mylabel\u001b[0m\u001b[0;34m(\u001b[0m\u001b[0;34m'période (en s)'\u001b[0m\u001b[0;34m)\u001b[0m\u001b[0;34m\u001b[0m\u001b[0;34m\u001b[0m\u001b[0m\n\u001b[1;32m      5\u001b[0m \u001b[0mplt\u001b[0m\u001b[0;34m.\u001b[0m\u001b[0mtitle\u001b[0m\u001b[0;34m(\u001b[0m\u001b[0;34m'Modélisation pendule simple'\u001b[0m\u001b[0;34m)\u001b[0m\u001b[0;34m\u001b[0m\u001b[0;34m\u001b[0m\u001b[0m\n",
            "\u001b[0;32m/usr/local/lib/python3.7/dist-packages/matplotlib/pyplot.py\u001b[0m in \u001b[0;36merrorbar\u001b[0;34m(x, y, yerr, xerr, fmt, ecolor, elinewidth, capsize, barsabove, lolims, uplims, xlolims, xuplims, errorevery, capthick, data, **kwargs)\u001b[0m\n\u001b[1;32m   2527\u001b[0m         \u001b[0mlolims\u001b[0m\u001b[0;34m=\u001b[0m\u001b[0mlolims\u001b[0m\u001b[0;34m,\u001b[0m \u001b[0muplims\u001b[0m\u001b[0;34m=\u001b[0m\u001b[0muplims\u001b[0m\u001b[0;34m,\u001b[0m \u001b[0mxlolims\u001b[0m\u001b[0;34m=\u001b[0m\u001b[0mxlolims\u001b[0m\u001b[0;34m,\u001b[0m\u001b[0;34m\u001b[0m\u001b[0;34m\u001b[0m\u001b[0m\n\u001b[1;32m   2528\u001b[0m         \u001b[0mxuplims\u001b[0m\u001b[0;34m=\u001b[0m\u001b[0mxuplims\u001b[0m\u001b[0;34m,\u001b[0m \u001b[0merrorevery\u001b[0m\u001b[0;34m=\u001b[0m\u001b[0merrorevery\u001b[0m\u001b[0;34m,\u001b[0m \u001b[0mcapthick\u001b[0m\u001b[0;34m=\u001b[0m\u001b[0mcapthick\u001b[0m\u001b[0;34m,\u001b[0m\u001b[0;34m\u001b[0m\u001b[0;34m\u001b[0m\u001b[0m\n\u001b[0;32m-> 2529\u001b[0;31m         **({\"data\": data} if data is not None else {}), **kwargs)\n\u001b[0m\u001b[1;32m   2530\u001b[0m \u001b[0;34m\u001b[0m\u001b[0m\n\u001b[1;32m   2531\u001b[0m \u001b[0;34m\u001b[0m\u001b[0m\n",
            "\u001b[0;32m/usr/local/lib/python3.7/dist-packages/matplotlib/__init__.py\u001b[0m in \u001b[0;36minner\u001b[0;34m(ax, data, *args, **kwargs)\u001b[0m\n\u001b[1;32m   1563\u001b[0m     \u001b[0;32mdef\u001b[0m \u001b[0minner\u001b[0m\u001b[0;34m(\u001b[0m\u001b[0max\u001b[0m\u001b[0;34m,\u001b[0m \u001b[0;34m*\u001b[0m\u001b[0margs\u001b[0m\u001b[0;34m,\u001b[0m \u001b[0mdata\u001b[0m\u001b[0;34m=\u001b[0m\u001b[0;32mNone\u001b[0m\u001b[0;34m,\u001b[0m \u001b[0;34m**\u001b[0m\u001b[0mkwargs\u001b[0m\u001b[0;34m)\u001b[0m\u001b[0;34m:\u001b[0m\u001b[0;34m\u001b[0m\u001b[0;34m\u001b[0m\u001b[0m\n\u001b[1;32m   1564\u001b[0m         \u001b[0;32mif\u001b[0m \u001b[0mdata\u001b[0m \u001b[0;32mis\u001b[0m \u001b[0;32mNone\u001b[0m\u001b[0;34m:\u001b[0m\u001b[0;34m\u001b[0m\u001b[0;34m\u001b[0m\u001b[0m\n\u001b[0;32m-> 1565\u001b[0;31m             \u001b[0;32mreturn\u001b[0m \u001b[0mfunc\u001b[0m\u001b[0;34m(\u001b[0m\u001b[0max\u001b[0m\u001b[0;34m,\u001b[0m \u001b[0;34m*\u001b[0m\u001b[0mmap\u001b[0m\u001b[0;34m(\u001b[0m\u001b[0msanitize_sequence\u001b[0m\u001b[0;34m,\u001b[0m \u001b[0margs\u001b[0m\u001b[0;34m)\u001b[0m\u001b[0;34m,\u001b[0m \u001b[0;34m**\u001b[0m\u001b[0mkwargs\u001b[0m\u001b[0;34m)\u001b[0m\u001b[0;34m\u001b[0m\u001b[0;34m\u001b[0m\u001b[0m\n\u001b[0m\u001b[1;32m   1566\u001b[0m \u001b[0;34m\u001b[0m\u001b[0m\n\u001b[1;32m   1567\u001b[0m         \u001b[0mbound\u001b[0m \u001b[0;34m=\u001b[0m \u001b[0mnew_sig\u001b[0m\u001b[0;34m.\u001b[0m\u001b[0mbind\u001b[0m\u001b[0;34m(\u001b[0m\u001b[0max\u001b[0m\u001b[0;34m,\u001b[0m \u001b[0;34m*\u001b[0m\u001b[0margs\u001b[0m\u001b[0;34m,\u001b[0m \u001b[0;34m**\u001b[0m\u001b[0mkwargs\u001b[0m\u001b[0;34m)\u001b[0m\u001b[0;34m\u001b[0m\u001b[0;34m\u001b[0m\u001b[0m\n",
            "\u001b[0;32m/usr/local/lib/python3.7/dist-packages/matplotlib/axes/_axes.py\u001b[0m in \u001b[0;36merrorbar\u001b[0;34m(self, x, y, yerr, xerr, fmt, ecolor, elinewidth, capsize, barsabove, lolims, uplims, xlolims, xuplims, errorevery, capthick, **kwargs)\u001b[0m\n\u001b[1;32m   3326\u001b[0m \u001b[0;34m\u001b[0m\u001b[0m\n\u001b[1;32m   3327\u001b[0m         \u001b[0;32mif\u001b[0m \u001b[0mxerr\u001b[0m \u001b[0;32mis\u001b[0m \u001b[0;32mnot\u001b[0m \u001b[0;32mNone\u001b[0m\u001b[0;34m:\u001b[0m\u001b[0;34m\u001b[0m\u001b[0;34m\u001b[0m\u001b[0m\n\u001b[0;32m-> 3328\u001b[0;31m             \u001b[0mleft\u001b[0m\u001b[0;34m,\u001b[0m \u001b[0mright\u001b[0m \u001b[0;34m=\u001b[0m \u001b[0mextract_err\u001b[0m\u001b[0;34m(\u001b[0m\u001b[0mxerr\u001b[0m\u001b[0;34m,\u001b[0m \u001b[0mx\u001b[0m\u001b[0;34m)\u001b[0m\u001b[0;34m\u001b[0m\u001b[0;34m\u001b[0m\u001b[0m\n\u001b[0m\u001b[1;32m   3329\u001b[0m             \u001b[0;31m# select points without upper/lower limits in x and\u001b[0m\u001b[0;34m\u001b[0m\u001b[0;34m\u001b[0m\u001b[0;34m\u001b[0m\u001b[0m\n\u001b[1;32m   3330\u001b[0m             \u001b[0;31m# draw normal errorbars for these points\u001b[0m\u001b[0;34m\u001b[0m\u001b[0;34m\u001b[0m\u001b[0;34m\u001b[0m\u001b[0m\n",
            "\u001b[0;32m/usr/local/lib/python3.7/dist-packages/matplotlib/axes/_axes.py\u001b[0m in \u001b[0;36mextract_err\u001b[0;34m(err, data)\u001b[0m\n\u001b[1;32m   3319\u001b[0m                 \u001b[0;32mif\u001b[0m \u001b[0mlen\u001b[0m\u001b[0;34m(\u001b[0m\u001b[0mdata\u001b[0m\u001b[0;34m)\u001b[0m \u001b[0;34m!=\u001b[0m \u001b[0mlen\u001b[0m\u001b[0;34m(\u001b[0m\u001b[0me\u001b[0m\u001b[0;34m)\u001b[0m\u001b[0;34m:\u001b[0m\u001b[0;34m\u001b[0m\u001b[0;34m\u001b[0m\u001b[0m\n\u001b[1;32m   3320\u001b[0m                     raise ValueError(\n\u001b[0;32m-> 3321\u001b[0;31m                         \u001b[0;34mf\"The lengths of the data ({len(data)}) and the \"\u001b[0m\u001b[0;34m\u001b[0m\u001b[0;34m\u001b[0m\u001b[0m\n\u001b[0m\u001b[1;32m   3322\u001b[0m                         f\"error {len(e)} do not match\")\n\u001b[1;32m   3323\u001b[0m             \u001b[0mlow\u001b[0m \u001b[0;34m=\u001b[0m \u001b[0;34m[\u001b[0m\u001b[0mv\u001b[0m \u001b[0;34m-\u001b[0m \u001b[0me\u001b[0m \u001b[0;32mfor\u001b[0m \u001b[0mv\u001b[0m\u001b[0;34m,\u001b[0m \u001b[0me\u001b[0m \u001b[0;32min\u001b[0m \u001b[0mzip\u001b[0m\u001b[0;34m(\u001b[0m\u001b[0mdata\u001b[0m\u001b[0;34m,\u001b[0m \u001b[0ma\u001b[0m\u001b[0;34m)\u001b[0m\u001b[0;34m]\u001b[0m\u001b[0;34m\u001b[0m\u001b[0;34m\u001b[0m\u001b[0m\n",
            "\u001b[0;31mValueError\u001b[0m: The lengths of the data (7) and the error 10000 do not match"
          ]
        },
        {
          "output_type": "display_data",
          "data": {
            "image/png": "[encoded data removed]",
            "text/plain": [
              "<Figure size 432x288 with 1 Axes>"
            ]
          },
          "metadata": {
            "needs_background": "light"
          }
        }
      ]
    }
  ]
}