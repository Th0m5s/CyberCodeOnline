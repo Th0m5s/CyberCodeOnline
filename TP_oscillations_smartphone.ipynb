{
  "nbformat": 4,
  "nbformat_minor": 0,
  "metadata": {
    "colab": {
      "name": "TP oscillations smartphone.ipynb",
      "provenance": [],
      "collapsed_sections": [],
      "include_colab_link": true
    },
    "kernelspec": {
      "name": "python3",
      "display_name": "Python 3"
    },
    "language_info": {
      "name": "python"
    }
  },
  "cells": [
    {
      "cell_type": "markdown",
      "metadata": {
        "id": "view-in-github",
        "colab_type": "text"
      },
      "source": [
        "<a href=\"https://colab.research.google.com/github/Th0m5s/CyberCodeOnline/blob/master/TP_oscillations_smartphone.ipynb\" target=\"_parent\"><img src=\"https://colab.research.google.com/assets/colab-badge.svg\" alt=\"Open In Colab\"/></a>"
      ]
    },
    {
      "cell_type": "markdown",
      "metadata": {
        "id": "zuP0-xX6JcXB"
      },
      "source": [
        "# Déterminer le rayon de la Terre en faisant osciller son smartphone\n",
        "---\n",
        "<br>\n",
        "\n",
        "Régression linéaire sur les données expérimentales et calcul des incertitudes."
      ]
    },
    {
      "cell_type": "markdown",
      "metadata": {
        "id": "b8N1p4kNJxLP"
      },
      "source": [
        "Pour me communiquer votre travail : \n",
        "<br>\n",
        "- enregistrer une copie de ce fichier sur votre Drive et la renommer \"*TP oscillations smartphone_votre nom*\" ;\n",
        "- partager la copie de votre fichier en cliquant sur Partager (en haut à droite) et ajouter mon adresse mail (physiquetsi1@gmail.com) dans Partager avec des personnes ou des groupes.\n",
        "<br>\n",
        "---"
      ]
    },
    {
      "cell_type": "markdown",
      "metadata": {
        "id": "JAvDaxnMKGmT"
      },
      "source": [
        "- Importer **numpy** et **matplotlib.pyplot** sous les alias **np** et **plt**."
      ]
    },
    {
      "cell_type": "code",
      "metadata": {
        "id": "fSyzzDHYJVJx"
      },
      "source": [
        "import numpy as np\n",
        "import matplotlib.pyplot as plt "
      ],
      "execution_count": 1,
      "outputs": []
    },
    {
      "cell_type": "markdown",
      "metadata": {
        "id": "NGkFblETKi_I"
      },
      "source": [
        " - Créer deux tableaux contenant les valeurs des grandeurs expérimentales mesurées : longueur du pendule et période des oscillations. On utilise l'instruction **np.array([*valeur 0*,*valeur 1*, ..., *valeur n-1*])**.  \n"
      ]
    },
    {
      "cell_type": "code",
      "metadata": {
        "id": "Xx81J5tLLCXq",
        "outputId": "1c3c91c1-ea47-477e-d6d3-50dd91cb6f64",
        "colab": {
          "base_uri": "https://localhost:8080/",
          "height": 283
        }
      },
      "source": [
        "l = np.array([0.33,0.56,0.18,0.26,0.69,0.40,1.00])#Stocke les valeurs de logueur du fil\n",
        "p = np.array([1.29,1.60,1.03,1.16,1.75,1.39,2.08]) #Stocke les valeurs de période des oscillations\n",
        "plt.plot(l,p, 'ro')"
      ],
      "execution_count": 2,
      "outputs": [
        {
          "output_type": "execute_result",
          "data": {
            "text/plain": [
              "[<matplotlib.lines.Line2D at 0x7f5d3d3bbc50>]"
            ]
          },
          "metadata": {},
          "execution_count": 2
        },
        {
          "output_type": "display_data",
          "data": {
            "image/png": "[encoded data removed]",
            "text/plain": [
              "<Figure size 432x288 with 1 Axes>"
            ]
          },
          "metadata": {
            "needs_background": "light"
          }
        }
      ]
    },
    {
      "cell_type": "markdown",
      "metadata": {
        "id": "9b6LPiEPNJN4"
      },
      "source": [
        " - Créer deux variables  **x** et **y** pour définir les grandeurs à porter en abscisse et en ordonnée."
      ]
    },
    {
      "cell_type": "code",
      "metadata": {
        "id": "Vf3-jPnqOrpj"
      },
      "source": [
        "x = p**2\n",
        "y = 4*np.pi**2*(l+0.075)"
      ],
      "execution_count": 3,
      "outputs": []
    },
    {
      "cell_type": "markdown",
      "metadata": {
        "id": "rblgBMKWOwXl"
      },
      "source": [
        "### Régression linéaire sans incertitudes\n",
        "---\n",
        "\n",
        "- Réaliser la régression linéaire sur les grandeurs **x** et **y**.   \n",
        "> On utilise l'instruction   \n",
        ">\n",
        ">  **np.polyfit(<*grandeur_en_abscisse*>, <*grandeur_en_ordonnée*>, <*degré_polynôme*>)**      \n",
        ">\n",
        ">qui calcule les coefficients du polynôme qui s'ajuste le mieux aux données.   \n",
        "\n",
        "Dans le cas d'une régression linéaire, il s'agit d'ajuster un polynôme de degré 1 aux données. L'instruction renvoie les valeurs des coeeficients du polynôme, soit la pente et l'ordonnée à l'origine dans le cas d'une droite correspondant à un polynôme de degré 1."
      ]
    },
    {
      "cell_type": "code",
      "metadata": {
        "id": "qiPRat6gQsCo"
      },
      "source": [
        "pente, ordonnee = np.polyfit(x, y, 1) # Remplacer <grandeur_en_abscisse>, <grandeur_en_ordonnée>, <degré_polynôme> par les expressions ou valeurs convenables.\n",
        "reg = pente,ordonnee\n",
        "yreg = reg[0]*x+reg[1]"
      ],
      "execution_count": 4,
      "outputs": []
    },
    {
      "cell_type": "markdown",
      "metadata": {
        "id": "ChbDNCsETCPm"
      },
      "source": [
        "- Ecrire deux lignes de code permettant d'afficher les valeurs de la pente et de l'ordonnée à l'origine de la régression linéaire. "
      ]
    },
    {
      "cell_type": "code",
      "metadata": {
        "id": "qabYVARHTN2P",
        "outputId": "7b2e6083-fc3f-4271-f796-b7c3355ccb8f",
        "colab": {
          "base_uri": "https://localhost:8080/"
        }
      },
      "source": [
        "print(pente, ordonnee)"
      ],
      "execution_count": 5,
      "outputs": [
        {
          "output_type": "stream",
          "name": "stdout",
          "text": [
            "9.909953929173527 -0.33389480677348743\n"
          ]
        }
      ]
    },
    {
      "cell_type": "markdown",
      "metadata": {
        "id": "5KsFQ3PzTzgr"
      },
      "source": [
        " - Représenter graphiquement **y** en fonction de **x** comme des ronds bleus. Superposer sur le même graphe la droite de régression linéaire d'équation *y* = *ordonnee* + *pente* * *x* , représentée comme une ligne rouge.   \n",
        " Donner un titre au graphique.   \n",
        " Nommer les axes.   \n",
        " Légender le graphe."
      ]
    },
    {
      "cell_type": "code",
      "metadata": {
        "id": "42Il2efxVFlF",
        "outputId": "1b358436-9958-47d6-cc30-e79f859dea4c",
        "colab": {
          "base_uri": "https://localhost:8080/",
          "height": 295
        }
      },
      "source": [
        "plt.plot(x,y,' bo')\n",
        "plt.plot(x,yreg,'r')\n",
        "plt.xlabel('longueur (en m)')\n",
        "plt.ylabel('période (en s)')\n",
        "plt.title('Modélisation pendule simple')\n",
        "plt.grid()\n",
        "plt.show()"
      ],
      "execution_count": 6,
      "outputs": [
        {
          "output_type": "display_data",
          "data": {
            "image/png": "[encoded data removed]",
            "text/plain": [
              "<Figure size 432x288 with 1 Axes>"
            ]
          },
          "metadata": {
            "needs_background": "light"
          }
        }
      ]
    },
    {
      "cell_type": "markdown",
      "metadata": {
        "id": "rCeiFBQ0VMww"
      },
      "source": [
        "### Prise en compte des incertitudes sur les données expérimentales \n",
        "---\n",
        "- Estimer la précision sur les deux  grandeurs mesurées. Affecter ces valeurs à deux variables.   \n",
        "- En déduire les incertitudes correspondantes. Affecter les valeurs à deux variables. On rappelle que pour une grandeur connue avec une précision $ \\Delta $, l'incertitude *u* correspondante vaut $u = \\frac{\\Delta}{\\sqrt 3}$."
      ]
    },
    {
      "cell_type": "code",
      "metadata": {
        "id": "TV35ls4_XMHE",
        "outputId": "905bf9a9-4666-4ae2-fbaf-5012d8e81d22",
        "colab": {
          "base_uri": "https://localhost:8080/"
        }
      },
      "source": [
        "pl = 0.01\n",
        "pp = 0.1\n",
        "incl = pl/(3)**(1/2)\n",
        "incp = pp/(3)**(1/2)\n",
        "print('Incertitude longueur =',incl,'m. Incertitude période',incp,'s')"
      ],
      "execution_count": 7,
      "outputs": [
        {
          "output_type": "stream",
          "name": "stdout",
          "text": [
            "Incertitude longueur = 0.005773502691896258 m. Incertitude période 0.05773502691896258 s\n"
          ]
        }
      ]
    },
    {
      "cell_type": "markdown",
      "metadata": {
        "id": "ilM-HW6hXOqv"
      },
      "source": [
        " - Calculer les incertitudes sur les grandeurs **x** et **y**. Affecter les valeurs à deux variables. On rappelle les formules de propagation des incertitudes :   \n",
        ">pour une grandeur $W = k Z$, $k$ = cste, $u(W) = |k|\\times u(Z)$    \n",
        "pour une grandeur $W = S \\times Z$ , $u(W) = |W| \\sqrt{\\left( \\frac{u(S)}S  \\right)^2 +\\left( \\frac{u(Z)}Z  \\right)^2 }$"
      ]
    },
    {
      "cell_type": "code",
      "source": [
        "Wx = (p**2)/(3**(1/2)) #Incertitude de x = 1*p**2\n",
        "Wy = (4*np.pi**2)*((l+0.075)/(3**(1/2))) #Incertitude de y = 4*np.pi**2*(l+0.075)\n",
        "print(Wx,Wy)"
      ],
      "metadata": {
        "id": "eJfyWM0aSBw4",
        "outputId": "903a558b-637a-4ab9-c75e-efbbcada5ff1",
        "colab": {
          "base_uri": "https://localhost:8080/"
        }
      },
      "execution_count": 13,
      "outputs": [
        {
          "output_type": "stream",
          "name": "stdout",
          "text": [
            "[0.96076858 1.47801669 0.6125109  0.77688252 1.7681352  1.11549846\n",
            " 2.4978482 ] [ 9.23111439 14.47347564  5.81218313  7.63561314 17.4365494  10.82661564\n",
            " 24.50234066]\n"
          ]
        }
      ]
    },
    {
      "cell_type": "markdown",
      "metadata": {
        "id": "NNIMpNUXacPf"
      },
      "source": [
        "### Simulation Monte Carlo de *N* = 10000 régressions linéaires\n",
        "---"
      ]
    },
    {
      "cell_type": "code",
      "metadata": {
        "id": "7Z9M6fSnbT_e"
      },
      "source": [
        "N = 10000   # Remplacer <valeur>"
      ],
      "execution_count": 14,
      "outputs": []
    },
    {
      "cell_type": "markdown",
      "metadata": {
        "id": "i3GaGXd-bk0z"
      },
      "source": [
        " - Créer deux listes vides **Pente** et **Ordo** pour stocker les valeurs des pentes et des ordonnées à l'origine des *N* régressions linéaires simulées.   \n",
        " - Créer une variable **L** qui contient le nombre d'expériences réalisées"
      ]
    },
    {
      "cell_type": "code",
      "metadata": {
        "id": "T-ss8Vg2bzAN"
      },
      "source": [
        "Pente = []\n",
        "Ordo = []\n"
      ],
      "execution_count": null,
      "outputs": []
    },
    {
      "cell_type": "markdown",
      "metadata": {
        "id": "17uBNbExcDar"
      },
      "source": [
        " - Simulation Monte Carlo :   "
      ]
    },
    {
      "cell_type": "code",
      "metadata": {
        "id": "Vmf51Lj8cNfw"
      },
      "source": [
        "for i in range(N):\n",
        "  longueur = <expression>    # Remplacer <expression> : simuler une liste de L valeurs de longueur du pendule selon une loi uniforme\n",
        "  période = <expression>      # Remplacer <expression> : simuler une liste de L valeurs d'oscillations du pendule selon une loi uniforme\n",
        "  Y = <expression>          # Remplacer <expression> par la grandeur à porter en ordonnée\n",
        "  X = <expression>          # Remplacer <expression> par la grandeur à porter en abscisse\n",
        "\n",
        "  regression = np.polyfit(X, Y, 1) # Réalise la régression linéaire sur les données simulées\n",
        "\n",
        "  Pente.append(regression[0])      \n",
        "  Ordo.append(regression[1])"
      ],
      "execution_count": null,
      "outputs": []
    },
    {
      "cell_type": "markdown",
      "metadata": {
        "id": "QQbo8BpqdWqZ"
      },
      "source": [
        " - Calculer l'incertitude **u_pente** sur la pente de la régression linéaire sur les grandeurs expérimentales à partir de l'échantillon des *N* valeurs simulées de pente.   \n",
        " - Calculer l'incertitude **u_ordo** sur l'ordonnée à l'origine de la régression linéaire sur les grandeurs expérimentales à partir de l'échantillon des *N* valeurs simulées d'ordonnée à l'origine."
      ]
    },
    {
      "cell_type": "code",
      "metadata": {
        "id": "jl2tOyn8eBWb"
      },
      "source": [
        "# Votre code ici"
      ],
      "execution_count": null,
      "outputs": []
    },
    {
      "cell_type": "markdown",
      "metadata": {
        "id": "x6t515BAeHDj"
      },
      "source": [
        "- Ecrire deux lignes de code permettant d'afficher les valeurs des incertitudes sur la pente et l'ordonnée à l'origine de la régression linéaire sur les données expérimentales. "
      ]
    },
    {
      "cell_type": "code",
      "metadata": {
        "id": "1gqWpNleeNpC"
      },
      "source": [
        "# Votre code ici"
      ],
      "execution_count": null,
      "outputs": []
    },
    {
      "cell_type": "markdown",
      "metadata": {
        "id": "yullr60qeSP2"
      },
      "source": [
        "### Représentation graphique tenant compte des incertitudes\n",
        "---\n",
        "\n",
        "- Représenter graphiquement les données expérimentales assorties de leurs barres d'incertitude. On représentera les données par des croix bleues.   \n",
        "> On utilise l'instruction    \n",
        ">   \n",
        "> **plt.errorbar(<*grandeur en abscisse*>,<*grandeur en ordonnée*>, xerr = <*incertitude sur la grandeur en abscisse*>, yerr = <*incertitude sur la grandeur en ordonnée*> , fmt = '*couleur marqueur*'  )**     \n",
        "\n",
        "- Superposer sur le même graphe la droite de régression linéaire d'équation *y* = *ordonnee* + *pente* * *x* , représentée comme une ligne rouge.   \n",
        " Donner un titre au graphique.   \n",
        " Nommer les axes.   \n",
        " Légender le graphe."
      ]
    },
    {
      "cell_type": "code",
      "source": [
        "# Votre code ici"
      ],
      "metadata": {
        "id": "xOluxRIZPepQ"
      },
      "execution_count": null,
      "outputs": []
    }
  ]
}